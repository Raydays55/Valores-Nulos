{
  "cells": [
    {
      "cell_type": "code",
      "execution_count": 1,
      "metadata": {
        "colab": {
          "base_uri": "https://localhost:8080/"
        },
        "id": "7m6TiRU9abNF",
        "outputId": "fd8da07a-a762-4b51-a539-2fc8fe6a22b0"
      },
      "outputs": [
        {
          "name": "stdout",
          "output_type": "stream",
          "text": [
            "Requirement already satisfied: openpyxl in /Library/Frameworks/Python.framework/Versions/3.13/lib/python3.13/site-packages (3.1.5)\n",
            "Requirement already satisfied: et-xmlfile in /Library/Frameworks/Python.framework/Versions/3.13/lib/python3.13/site-packages (from openpyxl) (2.0.0)\n",
            "Note: you may need to restart the kernel to use updated packages.\n"
          ]
        }
      ],
      "source": [
        "#Importamos las librerias pandas, numpy y matplotlib respectivamente\n",
        "import pandas as pd\n",
        "%pip install openpyxl\n",
        "import numpy as np\n",
        "import matplotlib.pyplot as plt"
      ]
    },
    {
      "cell_type": "code",
      "execution_count": 2,
      "metadata": {
        "colab": {
          "base_uri": "https://localhost:8080/",
          "height": 999
        },
        "collapsed": true,
        "id": "sEhU4lLyc9h7",
        "outputId": "c80cea08-6a75-4712-c387-7af1471ddb4d"
      },
      "outputs": [
        {
          "data": {
            "text/html": [
              "<div>\n",
              "<style scoped>\n",
              "    .dataframe tbody tr th:only-of-type {\n",
              "        vertical-align: middle;\n",
              "    }\n",
              "\n",
              "    .dataframe tbody tr th {\n",
              "        vertical-align: top;\n",
              "    }\n",
              "\n",
              "    .dataframe thead th {\n",
              "        text-align: right;\n",
              "    }\n",
              "</style>\n",
              "<table border=\"1\" class=\"dataframe\">\n",
              "  <thead>\n",
              "    <tr style=\"text-align: right;\">\n",
              "      <th></th>\n",
              "      <th>FECHA</th>\n",
              "      <th>FOLIO</th>\n",
              "      <th>UUID</th>\n",
              "      <th>RFC</th>\n",
              "      <th>PROVEEDOR</th>\n",
              "      <th>TIPO GASTO</th>\n",
              "      <th>GASTO</th>\n",
              "      <th>DESCRIPCION</th>\n",
              "      <th>TC</th>\n",
              "      <th>IMPORTE</th>\n",
              "      <th>IVA</th>\n",
              "      <th>RET ISR</th>\n",
              "      <th>RET IVA</th>\n",
              "      <th>TOTAL MX</th>\n",
              "      <th>TOTAL SAT</th>\n",
              "      <th>TIPO</th>\n",
              "      <th>STATUS</th>\n",
              "      <th>POLIZA</th>\n",
              "      <th>Columna1</th>\n",
              "    </tr>\n",
              "  </thead>\n",
              "  <tbody>\n",
              "    <tr>\n",
              "      <th>0</th>\n",
              "      <td>2020-01-01</td>\n",
              "      <td>39408</td>\n",
              "      <td>BD20F436-72CC-4BE2-AD37-5999D71AA391</td>\n",
              "      <td>ARE080115PBA</td>\n",
              "      <td>ARSI RENTA SA DE CV</td>\n",
              "      <td>MAQUINARIA</td>\n",
              "      <td>NaN</td>\n",
              "      <td>Descripción: REVOLVEDORA, Modelo: ULTRAMP9A, M...</td>\n",
              "      <td>1.0</td>\n",
              "      <td>0.00</td>\n",
              "      <td>2248.28</td>\n",
              "      <td>0.0</td>\n",
              "      <td>0.0</td>\n",
              "      <td>2248.28</td>\n",
              "      <td>16300.00</td>\n",
              "      <td>I</td>\n",
              "      <td>Vigente</td>\n",
              "      <td>NaN</td>\n",
              "      <td>14051.72</td>\n",
              "    </tr>\n",
              "    <tr>\n",
              "      <th>1</th>\n",
              "      <td>2020-01-01</td>\n",
              "      <td>0001010100750847116902</td>\n",
              "      <td>85AEAC2E-6395-44A0-9CB9-754D06893375</td>\n",
              "      <td>BNM840515VB1</td>\n",
              "      <td>BANCO NACIONAL DE MEXICO, S.A.</td>\n",
              "      <td>COMISION BANCARIA</td>\n",
              "      <td>NaN</td>\n",
              "      <td>COMISION COBRADA</td>\n",
              "      <td>1.0</td>\n",
              "      <td>490.00</td>\n",
              "      <td>78.40</td>\n",
              "      <td>0.0</td>\n",
              "      <td>0.0</td>\n",
              "      <td>568.40</td>\n",
              "      <td>568.40</td>\n",
              "      <td>I</td>\n",
              "      <td>Vigente</td>\n",
              "      <td>NaN</td>\n",
              "      <td>0.00</td>\n",
              "    </tr>\n",
              "    <tr>\n",
              "      <th>2</th>\n",
              "      <td>2020-01-01</td>\n",
              "      <td>0001010100752163714102</td>\n",
              "      <td>BD0DFE85-D776-41CB-9C5C-4FA7923E687A</td>\n",
              "      <td>BNM840515VB1</td>\n",
              "      <td>BANCO NACIONAL DE MEXICO, S.A.</td>\n",
              "      <td>COMISION BANCARIA</td>\n",
              "      <td>NaN</td>\n",
              "      <td>COMISION COBRADA</td>\n",
              "      <td>1.0</td>\n",
              "      <td>195.00</td>\n",
              "      <td>31.20</td>\n",
              "      <td>0.0</td>\n",
              "      <td>0.0</td>\n",
              "      <td>226.20</td>\n",
              "      <td>226.20</td>\n",
              "      <td>I</td>\n",
              "      <td>Vigente</td>\n",
              "      <td>NaN</td>\n",
              "      <td>0.00</td>\n",
              "    </tr>\n",
              "    <tr>\n",
              "      <th>3</th>\n",
              "      <td>2020-01-01</td>\n",
              "      <td>3663</td>\n",
              "      <td>EF4504D6-830D-415C-AF03-80CF54C5E28E</td>\n",
              "      <td>PSS120625C86</td>\n",
              "      <td>PROMOTORA DE SERVICIOS Y SOLUCIONES EMPRESARIA...</td>\n",
              "      <td>HONORARIOS CONTABLES</td>\n",
              "      <td>NaN</td>\n",
              "      <td>HONORARIOS CONTABLES\\nDEL MES DE ENERO DEL 2020.</td>\n",
              "      <td>1.0</td>\n",
              "      <td>10694.25</td>\n",
              "      <td>1711.08</td>\n",
              "      <td>0.0</td>\n",
              "      <td>0.0</td>\n",
              "      <td>12405.33</td>\n",
              "      <td>12405.33</td>\n",
              "      <td>I</td>\n",
              "      <td>Vigente</td>\n",
              "      <td>NaN</td>\n",
              "      <td>0.00</td>\n",
              "    </tr>\n",
              "    <tr>\n",
              "      <th>4</th>\n",
              "      <td>2020-01-01</td>\n",
              "      <td>2849</td>\n",
              "      <td>EC2F4AA4-BA64-4E2E-A5B7-4EBBE042D6D3</td>\n",
              "      <td>ENA7006081P0</td>\n",
              "      <td>ELECTROTERMICA NACIONAL SA DE CV</td>\n",
              "      <td>COMPRAS</td>\n",
              "      <td>NaN</td>\n",
              "      <td>Pago</td>\n",
              "      <td>1.0</td>\n",
              "      <td>0.00</td>\n",
              "      <td>NaN</td>\n",
              "      <td>0.0</td>\n",
              "      <td>0.0</td>\n",
              "      <td>0.00</td>\n",
              "      <td>0.00</td>\n",
              "      <td>P</td>\n",
              "      <td>Vigente</td>\n",
              "      <td>NaN</td>\n",
              "      <td>0.00</td>\n",
              "    </tr>\n",
              "    <tr>\n",
              "      <th>...</th>\n",
              "      <td>...</td>\n",
              "      <td>...</td>\n",
              "      <td>...</td>\n",
              "      <td>...</td>\n",
              "      <td>...</td>\n",
              "      <td>...</td>\n",
              "      <td>...</td>\n",
              "      <td>...</td>\n",
              "      <td>...</td>\n",
              "      <td>...</td>\n",
              "      <td>...</td>\n",
              "      <td>...</td>\n",
              "      <td>...</td>\n",
              "      <td>...</td>\n",
              "      <td>...</td>\n",
              "      <td>...</td>\n",
              "      <td>...</td>\n",
              "      <td>...</td>\n",
              "      <td>...</td>\n",
              "    </tr>\n",
              "    <tr>\n",
              "      <th>3337</th>\n",
              "      <td>2020-12-01</td>\n",
              "      <td>125834</td>\n",
              "      <td>80BCB1D8-673F-495B-9C2A-4AC9F9CB38E5</td>\n",
              "      <td>SQS110113MU0</td>\n",
              "      <td>SERVICIO QUINTANA SUR S.A DE C.V</td>\n",
              "      <td>COMBUSTIBLE</td>\n",
              "      <td>G VTA</td>\n",
              "      <td>32011 MAGNA</td>\n",
              "      <td>1.0</td>\n",
              "      <td>129.79</td>\n",
              "      <td>20.21</td>\n",
              "      <td>0.0</td>\n",
              "      <td>0.0</td>\n",
              "      <td>150.00</td>\n",
              "      <td>150.00</td>\n",
              "      <td>I</td>\n",
              "      <td>Vigente</td>\n",
              "      <td>NaN</td>\n",
              "      <td>0.00</td>\n",
              "    </tr>\n",
              "    <tr>\n",
              "      <th>3338</th>\n",
              "      <td>2020-12-01</td>\n",
              "      <td>37652</td>\n",
              "      <td>D4C7C1FB-03A7-4046-A2BD-03EBE7DA861E</td>\n",
              "      <td>PSQ790724C90</td>\n",
              "      <td>CIA. PERIODISTICA DEL SOL DE QUERETARO, S.A. D...</td>\n",
              "      <td>PUBLICIDAD</td>\n",
              "      <td>G VTA</td>\n",
              "      <td>82101504-PUBLICIDAD EN PERIODICOSCALOR Y CONTROL</td>\n",
              "      <td>1.0</td>\n",
              "      <td>2284.80</td>\n",
              "      <td>365.57</td>\n",
              "      <td>0.0</td>\n",
              "      <td>0.0</td>\n",
              "      <td>2650.37</td>\n",
              "      <td>2650.37</td>\n",
              "      <td>I</td>\n",
              "      <td>Vigente</td>\n",
              "      <td>NaN</td>\n",
              "      <td>0.00</td>\n",
              "    </tr>\n",
              "    <tr>\n",
              "      <th>3339</th>\n",
              "      <td>2020-12-01</td>\n",
              "      <td>160</td>\n",
              "      <td>FFCEE7D4-1F38-4D44-BE02-EB042DAACEE7</td>\n",
              "      <td>SQX981027RY5</td>\n",
              "      <td>SUPER Q, S. A. DE C. V.</td>\n",
              "      <td>ALIMENTOS</td>\n",
              "      <td>G VTA</td>\n",
              "      <td>REF VICTORIA GROSELLA 3 LT PET NR</td>\n",
              "      <td>1.0</td>\n",
              "      <td>163.79</td>\n",
              "      <td>26.21</td>\n",
              "      <td>0.0</td>\n",
              "      <td>0.0</td>\n",
              "      <td>190.00</td>\n",
              "      <td>190.00</td>\n",
              "      <td>I</td>\n",
              "      <td>Vigente</td>\n",
              "      <td>NaN</td>\n",
              "      <td>0.00</td>\n",
              "    </tr>\n",
              "    <tr>\n",
              "      <th>3340</th>\n",
              "      <td>2020-12-01</td>\n",
              "      <td>634875</td>\n",
              "      <td>8DFF4F01-2F8B-4085-B116-05A314108B02</td>\n",
              "      <td>BIN940223KE0</td>\n",
              "      <td>BANCO INVEX, S.A., INSTITUCION DE BANCA MULTIP...</td>\n",
              "      <td>COMISION BANCARIA</td>\n",
              "      <td>G FINA</td>\n",
              "      <td>COMISIONES E INTERESES</td>\n",
              "      <td>1.0</td>\n",
              "      <td>0.00</td>\n",
              "      <td>0.00</td>\n",
              "      <td>0.0</td>\n",
              "      <td>0.0</td>\n",
              "      <td>0.00</td>\n",
              "      <td>0.00</td>\n",
              "      <td>I</td>\n",
              "      <td>Vigente</td>\n",
              "      <td>NaN</td>\n",
              "      <td>0.00</td>\n",
              "    </tr>\n",
              "    <tr>\n",
              "      <th>3341</th>\n",
              "      <td>2020-12-01</td>\n",
              "      <td>1044477</td>\n",
              "      <td>F18225D6-4024-4F03-A15A-D18917386D59</td>\n",
              "      <td>EFE8908015L3</td>\n",
              "      <td>EFECTIVALE S. de R.L. de C.V.</td>\n",
              "      <td>COMBUSTIBLE</td>\n",
              "      <td>G VTA</td>\n",
              "      <td>CONSUMOS DE COMBUSTIBLE DE MONEDEROS ELECTRONICOS</td>\n",
              "      <td>1.0</td>\n",
              "      <td>14889.29</td>\n",
              "      <td>0.00</td>\n",
              "      <td>0.0</td>\n",
              "      <td>0.0</td>\n",
              "      <td>14889.29</td>\n",
              "      <td>14889.29</td>\n",
              "      <td>I</td>\n",
              "      <td>Vigente</td>\n",
              "      <td>NaN</td>\n",
              "      <td>0.00</td>\n",
              "    </tr>\n",
              "  </tbody>\n",
              "</table>\n",
              "<p>3342 rows × 19 columns</p>\n",
              "</div>"
            ],
            "text/plain": [
              "          FECHA                   FOLIO                                  UUID  \\\n",
              "0    2020-01-01                   39408  BD20F436-72CC-4BE2-AD37-5999D71AA391   \n",
              "1    2020-01-01  0001010100750847116902  85AEAC2E-6395-44A0-9CB9-754D06893375   \n",
              "2    2020-01-01  0001010100752163714102  BD0DFE85-D776-41CB-9C5C-4FA7923E687A   \n",
              "3    2020-01-01                    3663  EF4504D6-830D-415C-AF03-80CF54C5E28E   \n",
              "4    2020-01-01                    2849  EC2F4AA4-BA64-4E2E-A5B7-4EBBE042D6D3   \n",
              "...         ...                     ...                                   ...   \n",
              "3337 2020-12-01                  125834  80BCB1D8-673F-495B-9C2A-4AC9F9CB38E5   \n",
              "3338 2020-12-01                   37652  D4C7C1FB-03A7-4046-A2BD-03EBE7DA861E   \n",
              "3339 2020-12-01                     160  FFCEE7D4-1F38-4D44-BE02-EB042DAACEE7   \n",
              "3340 2020-12-01                  634875  8DFF4F01-2F8B-4085-B116-05A314108B02   \n",
              "3341 2020-12-01                 1044477  F18225D6-4024-4F03-A15A-D18917386D59   \n",
              "\n",
              "               RFC                                          PROVEEDOR  \\\n",
              "0     ARE080115PBA                                ARSI RENTA SA DE CV   \n",
              "1     BNM840515VB1                     BANCO NACIONAL DE MEXICO, S.A.   \n",
              "2     BNM840515VB1                     BANCO NACIONAL DE MEXICO, S.A.   \n",
              "3     PSS120625C86  PROMOTORA DE SERVICIOS Y SOLUCIONES EMPRESARIA...   \n",
              "4     ENA7006081P0                   ELECTROTERMICA NACIONAL SA DE CV   \n",
              "...            ...                                                ...   \n",
              "3337  SQS110113MU0                   SERVICIO QUINTANA SUR S.A DE C.V   \n",
              "3338  PSQ790724C90  CIA. PERIODISTICA DEL SOL DE QUERETARO, S.A. D...   \n",
              "3339  SQX981027RY5                            SUPER Q, S. A. DE C. V.   \n",
              "3340  BIN940223KE0  BANCO INVEX, S.A., INSTITUCION DE BANCA MULTIP...   \n",
              "3341  EFE8908015L3                      EFECTIVALE S. de R.L. de C.V.   \n",
              "\n",
              "                TIPO GASTO   GASTO  \\\n",
              "0               MAQUINARIA     NaN   \n",
              "1        COMISION BANCARIA     NaN   \n",
              "2        COMISION BANCARIA     NaN   \n",
              "3     HONORARIOS CONTABLES     NaN   \n",
              "4                  COMPRAS     NaN   \n",
              "...                    ...     ...   \n",
              "3337           COMBUSTIBLE   G VTA   \n",
              "3338            PUBLICIDAD   G VTA   \n",
              "3339             ALIMENTOS   G VTA   \n",
              "3340     COMISION BANCARIA  G FINA   \n",
              "3341           COMBUSTIBLE   G VTA   \n",
              "\n",
              "                                            DESCRIPCION   TC   IMPORTE  \\\n",
              "0     Descripción: REVOLVEDORA, Modelo: ULTRAMP9A, M...  1.0      0.00   \n",
              "1                                      COMISION COBRADA  1.0    490.00   \n",
              "2                                      COMISION COBRADA  1.0    195.00   \n",
              "3      HONORARIOS CONTABLES\\nDEL MES DE ENERO DEL 2020.  1.0  10694.25   \n",
              "4                                                  Pago  1.0      0.00   \n",
              "...                                                 ...  ...       ...   \n",
              "3337                                        32011 MAGNA  1.0    129.79   \n",
              "3338   82101504-PUBLICIDAD EN PERIODICOSCALOR Y CONTROL  1.0   2284.80   \n",
              "3339                  REF VICTORIA GROSELLA 3 LT PET NR  1.0    163.79   \n",
              "3340                             COMISIONES E INTERESES  1.0      0.00   \n",
              "3341  CONSUMOS DE COMBUSTIBLE DE MONEDEROS ELECTRONICOS  1.0  14889.29   \n",
              "\n",
              "          IVA  RET ISR  RET IVA  TOTAL MX  TOTAL SAT TIPO   STATUS POLIZA  \\\n",
              "0     2248.28      0.0      0.0   2248.28   16300.00    I  Vigente    NaN   \n",
              "1       78.40      0.0      0.0    568.40     568.40    I  Vigente    NaN   \n",
              "2       31.20      0.0      0.0    226.20     226.20    I  Vigente    NaN   \n",
              "3     1711.08      0.0      0.0  12405.33   12405.33    I  Vigente    NaN   \n",
              "4         NaN      0.0      0.0      0.00       0.00    P  Vigente    NaN   \n",
              "...       ...      ...      ...       ...        ...  ...      ...    ...   \n",
              "3337    20.21      0.0      0.0    150.00     150.00    I  Vigente    NaN   \n",
              "3338   365.57      0.0      0.0   2650.37    2650.37    I  Vigente    NaN   \n",
              "3339    26.21      0.0      0.0    190.00     190.00    I  Vigente    NaN   \n",
              "3340     0.00      0.0      0.0      0.00       0.00    I  Vigente    NaN   \n",
              "3341     0.00      0.0      0.0  14889.29   14889.29    I  Vigente    NaN   \n",
              "\n",
              "      Columna1  \n",
              "0     14051.72  \n",
              "1         0.00  \n",
              "2         0.00  \n",
              "3         0.00  \n",
              "4         0.00  \n",
              "...        ...  \n",
              "3337      0.00  \n",
              "3338      0.00  \n",
              "3339      0.00  \n",
              "3340      0.00  \n",
              "3341      0.00  \n",
              "\n",
              "[3342 rows x 19 columns]"
            ]
          },
          "execution_count": 2,
          "metadata": {},
          "output_type": "execute_result"
        }
      ],
      "source": [
        "#Importar archivo\n",
        "df = pd.read_excel(\"Gastos y costos 20-23.xlsx\", sheet_name=\"2020\",skiprows=5)\n",
        "df"
      ]
    },
    {
      "cell_type": "code",
      "execution_count": 3,
      "metadata": {
        "colab": {
          "base_uri": "https://localhost:8080/"
        },
        "id": "A6Ni5Z3_eLE5",
        "outputId": "d2d57252-9582-47bd-8131-66f42bddcbc4"
      },
      "outputs": [
        {
          "name": "stdout",
          "output_type": "stream",
          "text": [
            "Columnas con valores nulos y su cantidad:\n",
            "FOLIO       189\n",
            "GASTO      2502\n",
            "TC          391\n",
            "IMPORTE      34\n",
            "IVA         268\n",
            "TIPO          1\n",
            "POLIZA     3321\n",
            "dtype: int64\n"
          ]
        }
      ],
      "source": [
        "#identificar valores nulos\n",
        "null_counts = df.isnull().sum()\n",
        "\n",
        "# Filtrar para mostrar solo las columnas con valores nulos y su cantidad\n",
        "cols_with_null_counts = null_counts[null_counts > 0]\n",
        "print(\"Columnas con valores nulos y su cantidad:\")\n",
        "print(cols_with_null_counts)"
      ]
    },
    {
      "cell_type": "code",
      "execution_count": 4,
      "metadata": {
        "id": "VLBM0ik-emt3"
      },
      "outputs": [],
      "source": [
        "#Rellenar null counts FOLIO\n",
        "df[\"FOLIO\"] = df[\"FOLIO\"].fillna(\"SIN_FOLIO\")\n"
      ]
    },
    {
      "cell_type": "markdown",
      "metadata": {
        "id": "-ULzlkHOJb0K"
      },
      "source": [
        "Rellene con el \"SIN_FOLIO\" ya que al ser el folio un resgistro unico rellenar con cualquier otro tipo de metodo podria afectar la localizacion."
      ]
    },
    {
      "cell_type": "code",
      "execution_count": 5,
      "metadata": {
        "colab": {
          "base_uri": "https://localhost:8080/"
        },
        "id": "WU7YDMW3JdqU",
        "outputId": "b8b1dae0-8304-4295-c06a-cf9f35e6b5a2"
      },
      "outputs": [
        {
          "name": "stderr",
          "output_type": "stream",
          "text": [
            "/var/folders/c5/_p39j2b97hb2d064t5tdpypm0000gn/T/ipykernel_4568/46923590.py:2: FutureWarning: Series.fillna with 'method' is deprecated and will raise in a future version. Use obj.ffill() or obj.bfill() instead.\n",
            "  df[\"TC\"] = df[\"TC\"].fillna(method='ffill')\n"
          ]
        }
      ],
      "source": [
        "#NULL VALUES TC\n",
        "df[\"TC\"] = df[\"TC\"].fillna(method='ffill')\n"
      ]
    },
    {
      "cell_type": "markdown",
      "metadata": {
        "id": "TrOpwKmXKBHf"
      },
      "source": [
        "Se uso un ffill para rellenar la variable tc"
      ]
    },
    {
      "cell_type": "code",
      "execution_count": 6,
      "metadata": {
        "id": "8Lo6Q6m2LUpV"
      },
      "outputs": [],
      "source": [
        "df[\"IMPORTE\"]=df[\"IMPORTE\"].fillna(0)"
      ]
    },
    {
      "cell_type": "markdown",
      "metadata": {
        "id": "6EuOCKvDL1Je"
      },
      "source": [
        "No utilice ningun metodo ordinario para rellena, use el 0 ya que el importe es parte de la compra\n"
      ]
    },
    {
      "cell_type": "code",
      "execution_count": 7,
      "metadata": {
        "id": "8gyiV-KMF3Fr"
      },
      "outputs": [],
      "source": [
        "df[\"IVA\"]=df[\"IVA\"].fillna(\"SIN_DATO\")"
      ]
    },
    {
      "cell_type": "code",
      "execution_count": 8,
      "metadata": {
        "colab": {
          "base_uri": "https://localhost:8080/"
        },
        "id": "WPjTmsYnG8a3",
        "outputId": "a1a2b64a-5375-4994-a4b1-abc77cac1b97"
      },
      "outputs": [
        {
          "name": "stdout",
          "output_type": "stream",
          "text": [
            "Columnas con valores nulos y su cantidad:\n",
            "GASTO     2502\n",
            "TIPO         1\n",
            "POLIZA    3321\n",
            "dtype: int64\n"
          ]
        }
      ],
      "source": [
        "#identificar valores nulos\n",
        "null_counts = df.isnull().sum()\n",
        "\n",
        "# Filtrar para mostrar solo las columnas con valores nulos y su cantidad\n",
        "cols_with_null_counts = null_counts[null_counts > 0]\n",
        "print(\"Columnas con valores nulos y su cantidad:\")\n",
        "print(cols_with_null_counts)"
      ]
    },
    {
      "cell_type": "code",
      "execution_count": 9,
      "metadata": {
        "colab": {
          "base_uri": "https://localhost:8080/"
        },
        "id": "2yyaL5ejNSvW",
        "outputId": "eaeb2f62-f279-42f4-97b7-aedacd14469e"
      },
      "outputs": [
        {
          "name": "stderr",
          "output_type": "stream",
          "text": [
            "/var/folders/c5/_p39j2b97hb2d064t5tdpypm0000gn/T/ipykernel_4568/2653364362.py:1: FutureWarning: Series.fillna with 'method' is deprecated and will raise in a future version. Use obj.ffill() or obj.bfill() instead.\n",
            "  df[\"TIPO\"]=df[\"TIPO\"].fillna(method=\"bfill\")\n"
          ]
        }
      ],
      "source": [
        "df[\"TIPO\"]=df[\"TIPO\"].fillna(method=\"bfill\")"
      ]
    },
    {
      "cell_type": "code",
      "execution_count": 10,
      "metadata": {
        "id": "KLb8jBbMN7AL"
      },
      "outputs": [],
      "source": [
        "df[\"POLIZA\"]=df[\"POLIZA\"].fillna(0)"
      ]
    },
    {
      "cell_type": "code",
      "execution_count": 11,
      "metadata": {
        "colab": {
          "base_uri": "https://localhost:8080/"
        },
        "id": "si53vnLlOIYi",
        "outputId": "a6c10f8c-79c0-474d-f2e0-02df75fdfbe4"
      },
      "outputs": [
        {
          "name": "stdout",
          "output_type": "stream",
          "text": [
            "Columnas con valores nulos y su cantidad:\n",
            "GASTO    2502\n",
            "dtype: int64\n"
          ]
        }
      ],
      "source": [
        "#identificar valores nulos\n",
        "null_counts = df.isnull().sum()\n",
        "\n",
        "# Filtrar para mostrar solo las columnas con valores nulos y su cantidad\n",
        "cols_with_null_counts = null_counts[null_counts > 0]\n",
        "print(\"Columnas con valores nulos y su cantidad:\")\n",
        "print(cols_with_null_counts)"
      ]
    },
    {
      "cell_type": "code",
      "execution_count": 12,
      "metadata": {
        "id": "sFwL-uTbXh1N"
      },
      "outputs": [],
      "source": [
        "df[\"GASTO\"]=df[\"GASTO\"].fillna(\"SIN_DATO\")"
      ]
    },
    {
      "cell_type": "code",
      "execution_count": 13,
      "metadata": {
        "colab": {
          "base_uri": "https://localhost:8080/"
        },
        "id": "dBDYN4HuXrld",
        "outputId": "8ada44f0-8b60-46a3-83fc-c57239755ea3"
      },
      "outputs": [
        {
          "name": "stdout",
          "output_type": "stream",
          "text": [
            "Columnas con valores nulos y su cantidad:\n",
            "Series([], dtype: int64)\n"
          ]
        }
      ],
      "source": [
        "#identificar valores nulos\n",
        "null_counts = df.isnull().sum()\n",
        "\n",
        "# Filtrar para mostrar solo las columnas con valores nulos y su cantidad\n",
        "cols_with_null_counts = null_counts[null_counts > 0]\n",
        "print(\"Columnas con valores nulos y su cantidad:\")\n",
        "print(cols_with_null_counts)"
      ]
    },
    {
      "cell_type": "code",
      "execution_count": 14,
      "metadata": {
        "id": "cayf7kcHOywl"
      },
      "outputs": [],
      "source": [
        "df.to_csv(\"Gastos y costos20-23_clean (2020).csv\", index=False)"
      ]
    }
  ],
  "metadata": {
    "colab": {
      "provenance": []
    },
    "kernelspec": {
      "display_name": "Python 3",
      "name": "python3"
    },
    "language_info": {
      "codemirror_mode": {
        "name": "ipython",
        "version": 3
      },
      "file_extension": ".py",
      "mimetype": "text/x-python",
      "name": "python",
      "nbconvert_exporter": "python",
      "pygments_lexer": "ipython3",
      "version": "3.13.6"
    }
  },
  "nbformat": 4,
  "nbformat_minor": 0
}
