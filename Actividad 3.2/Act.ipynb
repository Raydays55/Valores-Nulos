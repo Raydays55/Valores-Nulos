{
 "cells": [
  {
   "cell_type": "code",
   "execution_count": null,
   "id": "6a0cb381",
   "metadata": {},
   "outputs": [],
   "source": [
    "#Importar librerías\n",
    "import pandas as pd\n",
    "import numpy as np"
   ]
  },
  {
   "cell_type": "code",
   "execution_count": null,
   "id": "ec7423a2",
   "metadata": {},
   "outputs": [
    {
     "name": "stdout",
     "output_type": "stream",
     "text": [
      "<class 'pandas.core.frame.DataFrame'>\n",
      "RangeIndex: 2577 entries, 0 to 2576\n",
      "Data columns (total 19 columns):\n",
      " #   Column       Non-Null Count  Dtype         \n",
      "---  ------       --------------  -----         \n",
      " 0   Fecha        2577 non-null   datetime64[ns]\n",
      " 1   Folio        2475 non-null   object        \n",
      " 2   UUID         2577 non-null   object        \n",
      " 3   RFC          2577 non-null   object        \n",
      " 4   Proveedor    2577 non-null   object        \n",
      " 5   TIPO GASTO   2577 non-null   object        \n",
      " 6   Descripción  2577 non-null   object        \n",
      " 7   MP           2024 non-null   object        \n",
      " 8   TC           1941 non-null   float64       \n",
      " 9   Importe      2577 non-null   float64       \n",
      " 10  IVA          2577 non-null   float64       \n",
      " 11  RET ISR      2577 non-null   float64       \n",
      " 12  RET IVA      2577 non-null   float64       \n",
      " 13  Otros        0 non-null      float64       \n",
      " 14  TOTAL MX     2577 non-null   float64       \n",
      " 15  TOTAL SAT    2577 non-null   float64       \n",
      " 16  Tipo         2577 non-null   object        \n",
      " 17  Status       2577 non-null   object        \n",
      " 18  Poliza       1776 non-null   object        \n",
      "dtypes: datetime64[ns](1), float64(8), object(10)\n",
      "memory usage: 382.7+ KB\n"
     ]
    }
   ],
   "source": [
    "# Importar el dataset\n",
    "df = pd.read_excel('Gastos y costos 20-23.xlsx', sheet_name = '2022', skiprows= 3)\n",
    "df.info()"
   ]
  },
  {
   "cell_type": "code",
   "execution_count": null,
   "id": "e041f72e",
   "metadata": {},
   "outputs": [],
   "source": []
  }
 ],
 "metadata": {
  "kernelspec": {
   "display_name": "Python 3",
   "language": "python",
   "name": "python3"
  },
  "language_info": {
   "codemirror_mode": {
    "name": "ipython",
    "version": 3
   },
   "file_extension": ".py",
   "mimetype": "text/x-python",
   "name": "python",
   "nbconvert_exporter": "python",
   "pygments_lexer": "ipython3",
   "version": "3.13.6"
  }
 },
 "nbformat": 4,
 "nbformat_minor": 5
}
